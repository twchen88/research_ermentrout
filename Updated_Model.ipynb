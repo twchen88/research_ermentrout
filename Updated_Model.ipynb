{
 "cells": [
  {
   "cell_type": "markdown",
   "metadata": {},
   "source": [
    "### Model from Bard:\n",
    "\n",
    "\n",
    "\n",
    "#### Equations:\n",
    "\n",
    "dV/dt=Gv*I/(1+kvf*f) - Gvh*V*H - alphav*V - (av1*V)/(1+av2*V)\n",
    "\n",
    "dH/dt=Bhd*d*H*((H-ep)/(H+ep)) - Ghv*V*H-khf*f*h\n",
    "\n",
    "dI/dt=Ghv*H*V/(1+kif*f) - ai*I\n",
    "\n",
    "df/dt=(cfi*i-delf*f+kfh*d*f+kff*f^2/(1+b2*f^2))/tauf\n",
    "\n",
    "D=1-H-I (substituted in below)\n",
    "\n",
    "#aux d=d\n",
    "\n",
    "#### Parameters: \n",
    "\n",
    "par delf=.5,cfi=2\n",
    "\n",
    "par kvf=5,kif=3,tauf=2\n",
    "\n",
    "param Gv=20,Gvh=0.7,alphav=1.7\n",
    "\n",
    "par kfh=.3,khf=.3,kff=1.2,b2=1\n",
    "\n",
    "param av1=28,av2=1550\n",
    "\n",
    "param Bhd=4,Ghv=0.7,ai=1.5,ep=0.1\n",
    "\n",
    "param bFH=17,bF=125,aF=8,aR=1\n",
    "\n",
    "#### Initial Values:\n",
    "init H=1,V=0.01, F=.2, I=0\n",
    "\n",
    "\n",
    "{xpp stuff: \n",
    "@ method=qualrk, tol=1e-10, dt=0.05, total=80, bounds=1e70\n",
    "\n",
    "@ xp=V, yp=H, xlo=-0.1, xhi=4, ylo=-0.1, yhi=1.1, bell=0 }"
   ]
  },
  {
   "cell_type": "code",
   "execution_count": 1,
   "metadata": {},
   "outputs": [
    {
     "data": {
      "image/png": "[encoded data removed]",
      "text/plain": [
       "<Figure size 432x288 with 1 Axes>"
      ]
     },
     "metadata": {},
     "output_type": "display_data"
    }
   ],
   "source": [
    "from ipywidgets import *\n",
    "import tellurium as te\n",
    "import matplotlib.pyplot as plt\n",
    "import numpy as np\n",
    "\n",
    "antStr = '''\n",
    "model updatedModel()\n",
    "    # Parameters (these are all constant):\n",
    "    delf = .5; cfi=2; kvf = 5; kif=3; tauf=2;\n",
    "    Gv=20; Gvh=0.7; alphav=1.7; kfh=.3; khf=.3; kff=1.2; b2=1;\n",
    "    av1=28; av2=1550; Bhd=4; Ghv=0.7; ai=1.5; ep=0.1;\n",
    "    bfH=17; bF=125; aF=8; aR=1;\n",
    "    \n",
    "    # Equations (the letter after the arrow defines the variable, and the eqn after the semicolon defines the right hand side of the ODE):\n",
    "    -> V; Gv*I/(1+kvf*F) - Gvh*V*H - alphav*V - (av1*V)/(1+av2*V)\n",
    "    -> I; Ghv*H*V/(1+kif*F) - ai*I\n",
    "    -> H; Bhd*(1-H-I)*H*((H-ep)/(H+ep)) - Ghv*V*H-khf*F*H\n",
    "    -> F; (cfi*I-delf*F+kfh*(1-H-I)*F+kff*F^2/(1+b2*F^2))/tauf\n",
    "   \n",
    "    # Initial Conditions (the initial levels of each variable):\n",
    "    V = 0.01; H = 1; F = 0.2; I=0;\n",
    "\n",
    "end'''\n",
    "rr = te.loadAntimonyModel(antStr)\n",
    "\n",
    "rr.simulate(0,10,1000,['Time','H','V','F','I']) #simulates the model from time t=0 to t=10 with 1000 steps in between\n",
    "rr.plot()"
   ]
  },
  {
   "cell_type": "markdown",
   "metadata": {},
   "source": [
    "Code below lets you play with parameters for initial virus V0, replication rate of virus Gv, and initial interferon value F0."
   ]
  },
  {
   "cell_type": "code",
   "execution_count": 2,
   "metadata": {},
   "outputs": [
    {
     "data": {
      "application/vnd.jupyter.widget-view+json": {
       "model_id": "58d4a8797ee14c638d50760e52c4275b",
       "version_major": 2,
       "version_minor": 0
      },
      "text/plain": [
       "HBox(children=(FloatLogSlider(value=0.01, description='V0', max=2.0, min=-3.0), FloatLogSlider(value=20.0, des…"
      ]
     },
     "metadata": {},
     "output_type": "display_data"
    },
    {
     "data": {
      "application/vnd.jupyter.widget-view+json": {
       "model_id": "540149dd74f647aa8b9d3c839a88a078",
       "version_major": 2,
       "version_minor": 0
      },
      "text/plain": [
       "Output()"
      ]
     },
     "metadata": {},
     "output_type": "display_data"
    }
   ],
   "source": [
    "def replot(V0,Gv,F0):\n",
    "    rr.resetAll()\n",
    "    rr.V=V0\n",
    "    rr.Gv=Gv\n",
    "    rr.F=F0\n",
    "    m = rr.simulate(0, 10,1000)\n",
    "    rr.plot()\n",
    "    \n",
    "Gv=widgets.FloatLogSlider(description=\"Gv\",value=20,min=-1.0, max=3.0)\n",
    "V0=widgets.FloatLogSlider(description=\"V0\",value=0.01,min=-3.0, max=2.0)\n",
    "F0=widgets.FloatLogSlider(description=\"F0\",value=.05,min=-1,max=2)\n",
    "\n",
    "ui=widgets.HBox([V0,Gv,F0])\n",
    "out=widgets.interactive_output(replot,{'V0':V0, 'Gv':Gv, 'F0':F0})\n",
    "display(ui,out)"
   ]
  },
  {
   "cell_type": "code",
   "execution_count": null,
   "metadata": {},
   "outputs": [],
   "source": []
  }
 ],
 "metadata": {
  "kernelspec": {
   "display_name": "Python 3",
   "language": "python",
   "name": "python3"
  },
  "language_info": {
   "codemirror_mode": {
    "name": "ipython",
    "version": 3
   },
   "file_extension": ".py",
   "mimetype": "text/x-python",
   "name": "python",
   "nbconvert_exporter": "python",
   "pygments_lexer": "ipython3",
   "version": "3.7.0"
  }
 },
 "nbformat": 4,
 "nbformat_minor": 4
}
