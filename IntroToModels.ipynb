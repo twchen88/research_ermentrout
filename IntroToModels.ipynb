{
 "cells": [
  {
   "cell_type": "code",
   "execution_count": null,
   "metadata": {},
   "outputs": [],
   "source": []
  },
  {
   "cell_type": "markdown",
   "metadata": {},
   "source": [
    "The original 3D version of the model looks like this: \n",
    "\n",
    "dV/dt = gv * I - gvh * H * V - (av1 * V)/(1+av2 * V) - alphav * V \n",
    "\n",
    "dH/dt = bhd * D * H * ((H-eps)/(H+eps)) - ghv * H * V\n",
    "\n",
    "dI/dt = ghv * H * V - ai * I\n",
    "\n",
    "where D = 1-H-I and represents the fraction of epithelial cells that are dead.\n",
    "\n",
    "The model below is the reduced 3d-to-2d version of the model.  In this version, we take the original 3d equations, set dI/dt=0, and solve for I, to get I = (Gv * Ghv/ai).  We substitute this into the dH/dt and dV/dt equations and use this reduced form to study the behavior of H and V.  The code below runs and plots the output for the 3to2 model."
   ]
  },
  {
   "cell_type": "code",
   "execution_count": 10,
   "metadata": {},
   "outputs": [
    {
     "data": {
      "image/png": "[encoded data removed]",
      "text/plain": [
       "<Figure size 432x288 with 1 Axes>"
      ]
     },
     "metadata": {},
     "output_type": "display_data"
    }
   ],
   "source": [
    "from ipywidgets import *\n",
    "import tellurium as te\n",
    "import matplotlib.pyplot as plt\n",
    "import numpy as np\n",
    "\n",
    "antStr = '''\n",
    "model Reduced3to2model()\n",
    "    # Parameters (these are all constant):\n",
    "    Gv=20; Gvh=0.7; alphav=1.7; av1=1400; av2=77628; Ghv=0.7;\n",
    "    Bhd=4; ai=1.5; ep=0.05; bFH=17; bF=125; aF=8; aR=1;\n",
    "    \n",
    "    # Equations (the letter after the arrow defines the variable, and the eqn after the semicolon defines the right hand side of the ODE):\n",
    "    -> V; ((Gv*Ghv/ai)-Gvh)*H*V-alphav*V-((av1*V)/(1+av2*V));\n",
    "    -> H; Bhd*(1-(Ghv*H*V/ai)-H)*H*((H-ep)/(H+ep))-Ghv*H*V;\n",
    "   \n",
    "    # Initial Conditions (the initial levels of each variable):\n",
    "    V = 0.01; H = 1;\n",
    "\n",
    "end'''\n",
    "\n",
    "antStrEdit = '''\n",
    "model Reduced3to2model()\n",
    "    # Parameterss (these are all constant):\n",
    "    Gv=20; Gvh=0.7; alphav=1.7; av1=28; av2=1550; Ghv=0.7;\n",
    "    Bhd=4; ai=1.5; ep=0.1; bFH=17; bF=125; aF=8; aR=1;\n",
    "    delf=.5; cfi=2; kvf=5; kif=3; tauf=2;\n",
    "    kfh=.3; khf=.3; kff=1.2; b2=1;\n",
    "    \n",
    "    \n",
    "    \n",
    "    # Equations (the letter after the arrow defines the variable, and the eqn after the semicolon defines the right hand side of the ODE):\n",
    "    -> D; 1-H-I\n",
    "    -> V; ((Gv*Ghv/ai)-Gvh)*H*V-alphav*V-((av1*V)/(1+av2*V));\n",
    "    -> H; Bhd*(1-(Ghv*H*V/ai)-H)*H*((H-ep)/(H+ep))-Ghv*H*V;\n",
    "    -> I; Ghv*H*V/(1+kif*F) - ai*I\n",
    "    -> F; (cfi*I-delf*F+kfh*D*F+kff*F^2/(1+b2*F^2))/tauf\n",
    "    \n",
    "   \n",
    "    # Initial Conditions (the initial levels of each variable):\n",
    "    V = 0.01; H = 1;\n",
    "\n",
    "end\n",
    "'''\n",
    "rr = te.loadAntimonyModel(antStrEdit)\n",
    "\n",
    "rr.simulate(0,10,1000,['Time','H','V']) #simulates the model from time t=0 to t=10 with 1000 steps in between\n",
    "rr.plot()\n"
   ]
  },
  {
   "cell_type": "markdown",
   "metadata": {},
   "source": [
    "The code below then takes the model defined above and allows you to experiment with changing V0 (the initial level of virus present in the host) and Gv (gamma_v, the replication rate of the virus).  You can use the sliders to change one or both of these parameters and see what happens."
   ]
  },
  {
   "cell_type": "code",
   "execution_count": 11,
   "metadata": {},
   "outputs": [
    {
     "data": {
      "application/vnd.jupyter.widget-view+json": {
       "model_id": "51c0c3c624454eeba7886c5910e2dfc0",
       "version_major": 2,
       "version_minor": 0
      },
      "text/plain": [
       "HBox(children=(FloatLogSlider(value=0.01, description='V0', max=2.0, min=-3.0), FloatLogSlider(value=20.0, des…"
      ]
     },
     "metadata": {},
     "output_type": "display_data"
    },
    {
     "data": {
      "application/vnd.jupyter.widget-view+json": {
       "model_id": "489c538a589c452f81e24b68c4ccd659",
       "version_major": 2,
       "version_minor": 0
      },
      "text/plain": [
       "Output()"
      ]
     },
     "metadata": {},
     "output_type": "display_data"
    }
   ],
   "source": [
    "def replot(V0,Gv):\n",
    "    rr.resetAll()\n",
    "    rr.V=V0\n",
    "    rr.Gv=Gv\n",
    "    m = rr.simulate(0, 10,1000)\n",
    "    rr.plot()\n",
    "    \n",
    "Gv=widgets.FloatLogSlider(description=\"Gv\",value=20,min=-1.0, max=3.0)\n",
    "V0=widgets.FloatLogSlider(description=\"V0\",value=0.01,min=-3.0, max=2.0)\n",
    "ui=widgets.HBox([V0,Gv])\n",
    "out=widgets.interactive_output(replot,{'V0':V0, 'Gv':Gv})\n",
    "display(ui,out)"
   ]
  },
  {
   "cell_type": "markdown",
   "metadata": {},
   "source": [
    "The original 5D system looks like this:\n",
    "\n",
    "dV/dt = gv * I - gvh * H * V - (av1 * V)/(1+av2 * V) - alphav * V \n",
    "\n",
    "dH/dt = bhd * D * H * ((H-eps)/(H+eps)) - ghv * H * V + aR * R - bHF * F * H\n",
    "\n",
    "dI/dt = ghv * H * V - ai * I\n",
    "\n",
    "dF/dt = bF * I - bFH * F * H - aF * F\n",
    "\n",
    "dR/dt = bFH * F * H - aR * R\n",
    "\n",
    "This model adds type I interferon (F) and resistant epithelial cells (R) to the system.  Resistant cells cannot become infected, so this reduces the pool of cells which the virus can infect, helping to limit the infection. \n",
    "\n",
    "Similar to the 3D system above, we created a reduced version of the original 5D model,  As before, we set dI/dt=0, and also dR/dt=0 and dF/dt = 0, and solve  for I, R, and F.  The equations in the model below represent this reduced system."
   ]
  },
  {
   "cell_type": "code",
   "execution_count": 12,
   "metadata": {},
   "outputs": [
    {
     "data": {
      "image/png": "[encoded data removed]",
      "text/plain": [
       "<Figure size 432x288 with 1 Axes>"
      ]
     },
     "metadata": {},
     "output_type": "display_data"
    }
   ],
   "source": [
    "from ipywidgets import *\n",
    "import tellurium as te\n",
    "import matplotlib.pyplot as plt\n",
    "import numpy as np\n",
    "\n",
    "antStr = '''\n",
    "model Reduced5to2model()\n",
    "    # Parameters:\n",
    "    Gv=20; Gvh=0.7; alphav=1.7; av1=28; av2=1550; Ghv=0.7;\n",
    "    Bhd=4; ai=1.5; ep=0.05; bFH=17; bF=125; aF=8; aR=1;\n",
    "    \n",
    "    # Equations:\n",
    "    -> V; (Gv/ai-1)*Gvh*H*V-alphav*V-(av1*V)/(1+av2*V);\n",
    "    -> H; Bhd*(1-(Gvh*H*V/ai)-H-(bFH/aR)*((bF*Gvh*H*H*V)/(ai*(bFH*H+aF))))*H*((H-ep)/(H+ep))-Gvh*H*V+(1-bFH)*((bF*Gvh*H*H*V)/(ai*(bFH*H+aF)));\n",
    "   \n",
    "    # Initial Conditions:\n",
    "    V = 0.01; H = 1;\n",
    "\n",
    "end'''\n",
    "rr = te.loadAntimonyModel(antStr)\n",
    "\n",
    "rr.simulate(0,10,1000,['Time','H','V'])\n",
    "rr.plot()"
   ]
  },
  {
   "cell_type": "markdown",
   "metadata": {},
   "source": [
    "Again, you can use the sliders to play around with V0 and Gv in this system."
   ]
  },
  {
   "cell_type": "code",
   "execution_count": 13,
   "metadata": {},
   "outputs": [
    {
     "data": {
      "application/vnd.jupyter.widget-view+json": {
       "model_id": "96a1f77dd37a47629615c63676244706",
       "version_major": 2,
       "version_minor": 0
      },
      "text/plain": [
       "HBox(children=(FloatLogSlider(value=0.01, description='V0', max=2.0, min=-3.0), FloatLogSlider(value=20.0, des…"
      ]
     },
     "metadata": {},
     "output_type": "display_data"
    },
    {
     "data": {
      "application/vnd.jupyter.widget-view+json": {
       "model_id": "7768f3ef815f455ca27ac7a5d6bb41b7",
       "version_major": 2,
       "version_minor": 0
      },
      "text/plain": [
       "Output()"
      ]
     },
     "metadata": {},
     "output_type": "display_data"
    }
   ],
   "source": [
    "def replot(V0,Gv):\n",
    "    rr.resetAll()\n",
    "    rr.V=V0\n",
    "    rr.Gv=Gv\n",
    "    m = rr.simulate(0, 10,1000)\n",
    "    rr.plot()\n",
    "\n",
    "Gv=widgets.FloatLogSlider(description=\"Gv\",value=20,min=-1.0, max=3.0)\n",
    "V0=widgets.FloatLogSlider(description=\"V0\",value=0.01,min=-3.0, max=2.0)\n",
    "ui=widgets.HBox([V0,Gv])\n",
    "out=widgets.interactive_output(replot,{'V0':V0, 'Gv':Gv})\n",
    "display(ui,out)"
   ]
  }
 ],
 "metadata": {
  "kernelspec": {
   "display_name": "Python 3",
   "language": "python",
   "name": "python3"
  },
  "language_info": {
   "codemirror_mode": {
    "name": "ipython",
    "version": 3
   },
   "file_extension": ".py",
   "mimetype": "text/x-python",
   "name": "python",
   "nbconvert_exporter": "python",
   "pygments_lexer": "ipython3",
   "version": "3.7.0"
  }
 },
 "nbformat": 4,
 "nbformat_minor": 2
}
